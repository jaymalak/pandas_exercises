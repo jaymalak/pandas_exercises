{
  "nbformat": 4,
  "nbformat_minor": 0,
  "metadata": {
    "anaconda-cloud": {},
    "kernelspec": {
      "display_name": "Python [default]",
      "language": "python",
      "name": "python2"
    },
    "language_info": {
      "codemirror_mode": {
        "name": "ipython",
        "version": 2
      },
      "file_extension": ".py",
      "mimetype": "text/x-python",
      "name": "python",
      "nbconvert_exporter": "python",
      "pygments_lexer": "ipython2",
      "version": "2.7.12"
    },
    "colab": {
      "name": "Exercises_worl-food-facts.ipynb",
      "provenance": [],
      "collapsed_sections": [],
      "include_colab_link": true
    }
  },
  "cells": [
    {
      "cell_type": "markdown",
      "metadata": {
        "id": "view-in-github",
        "colab_type": "text"
      },
      "source": [
        "<a href=\"https://colab.research.google.com/github/jaymalak/pandas_exercises/blob/master/Exercises_worl_food_facts.ipynb\" target=\"_parent\"><img src=\"https://colab.research.google.com/assets/colab-badge.svg\" alt=\"Open In Colab\"/></a>"
      ]
    },
    {
      "cell_type": "markdown",
      "metadata": {
        "id": "9bEGZvjQnB2m",
        "colab_type": "text"
      },
      "source": [
        "# Exercise 1"
      ]
    },
    {
      "cell_type": "markdown",
      "metadata": {
        "id": "LbB_YYaYvmT7",
        "colab_type": "text"
      },
      "source": [
        "INTRODUCTION : Pandas practise exercises. Tried to use Data from Google Drive"
      ]
    },
    {
      "cell_type": "markdown",
      "metadata": {
        "id": "N5GxgWAjnB2q",
        "colab_type": "text"
      },
      "source": [
        "### Step 1. Go to https://www.kaggle.com/openfoodfacts/world-food-facts/data"
      ]
    },
    {
      "cell_type": "markdown",
      "metadata": {
        "id": "xRDcaQeYnB2r",
        "colab_type": "text"
      },
      "source": [
        "### Step 2. Download the dataset to your computer and unzip it."
      ]
    },
    {
      "cell_type": "markdown",
      "metadata": {
        "id": "svlxwuZ9nB2r",
        "colab_type": "text"
      },
      "source": [
        "### Step 3. Use the tsv file and assign it to a dataframe called food"
      ]
    },
    {
      "cell_type": "code",
      "metadata": {
        "id": "NszevliYrqbi",
        "colab_type": "code",
        "colab": {}
      },
      "source": [
        "import pandas as pd\n",
        "import numpy as np"
      ],
      "execution_count": 0,
      "outputs": []
    },
    {
      "cell_type": "code",
      "metadata": {
        "id": "SYvEeoziiDyl",
        "colab_type": "code",
        "colab": {}
      },
      "source": [
        "link = 'https://drive.google.com/open?id=1vLAdjggonT06uwY__At78rxrGriq7BPf'"
      ],
      "execution_count": 0,
      "outputs": []
    },
    {
      "cell_type": "code",
      "metadata": {
        "id": "W5y0rY_th30h",
        "colab_type": "code",
        "colab": {
          "base_uri": "https://localhost:8080/",
          "height": 34
        },
        "outputId": "ef69fd88-eec5-48b6-ee18-9a7b7143de8e"
      },
      "source": [
        "fluff, id = link.split('=')\n",
        "print (id) # Verify that you have everything after '='"
      ],
      "execution_count": 21,
      "outputs": [
        {
          "output_type": "stream",
          "text": [
            "1vLAdjggonT06uwY__At78rxrGriq7BPf\n"
          ],
          "name": "stdout"
        }
      ]
    },
    {
      "cell_type": "code",
      "metadata": {
        "id": "iSrQ_9p_iWM8",
        "colab_type": "code",
        "colab": {}
      },
      "source": [
        "downloaded = drive.CreateFile({'id':id}) \n",
        "downloaded.GetContentFile('en.openfoodfacts.org.products.tsv')  \n",
        "food = pd.read_csv('en.openfoodfacts.org.products.tsv',sep = '\\t')\n",
        "# Dataset is now stored in a Pandas Dataframe"
      ],
      "execution_count": 0,
      "outputs": []
    },
    {
      "cell_type": "markdown",
      "metadata": {
        "id": "H6GtJmL4nB2w",
        "colab_type": "text"
      },
      "source": [
        "### Step 4. See the first 5 entries"
      ]
    },
    {
      "cell_type": "code",
      "metadata": {
        "id": "xwOuxxQPnB2w",
        "colab_type": "code",
        "outputId": "e5674aa3-022d-4e79-e18e-a3bc80f527f8",
        "colab": {
          "base_uri": "https://localhost:8080/",
          "height": 446
        }
      },
      "source": [
        "food.head(5)"
      ],
      "execution_count": 26,
      "outputs": [
        {
          "output_type": "execute_result",
          "data": {
            "text/html": [
              "<div>\n",
              "<style scoped>\n",
              "    .dataframe tbody tr th:only-of-type {\n",
              "        vertical-align: middle;\n",
              "    }\n",
              "\n",
              "    .dataframe tbody tr th {\n",
              "        vertical-align: top;\n",
              "    }\n",
              "\n",
              "    .dataframe thead th {\n",
              "        text-align: right;\n",
              "    }\n",
              "</style>\n",
              "<table border=\"1\" class=\"dataframe\">\n",
              "  <thead>\n",
              "    <tr style=\"text-align: right;\">\n",
              "      <th></th>\n",
              "      <th>code</th>\n",
              "      <th>url</th>\n",
              "      <th>creator</th>\n",
              "      <th>created_t</th>\n",
              "      <th>created_datetime</th>\n",
              "      <th>last_modified_t</th>\n",
              "      <th>last_modified_datetime</th>\n",
              "      <th>product_name</th>\n",
              "      <th>generic_name</th>\n",
              "      <th>quantity</th>\n",
              "      <th>packaging</th>\n",
              "      <th>packaging_tags</th>\n",
              "      <th>brands</th>\n",
              "      <th>brands_tags</th>\n",
              "      <th>categories</th>\n",
              "      <th>categories_tags</th>\n",
              "      <th>categories_en</th>\n",
              "      <th>origins</th>\n",
              "      <th>origins_tags</th>\n",
              "      <th>manufacturing_places</th>\n",
              "      <th>manufacturing_places_tags</th>\n",
              "      <th>labels</th>\n",
              "      <th>labels_tags</th>\n",
              "      <th>labels_en</th>\n",
              "      <th>emb_codes</th>\n",
              "      <th>emb_codes_tags</th>\n",
              "      <th>first_packaging_code_geo</th>\n",
              "      <th>cities</th>\n",
              "      <th>cities_tags</th>\n",
              "      <th>purchase_places</th>\n",
              "      <th>stores</th>\n",
              "      <th>countries</th>\n",
              "      <th>countries_tags</th>\n",
              "      <th>countries_en</th>\n",
              "      <th>ingredients_text</th>\n",
              "      <th>allergens</th>\n",
              "      <th>allergens_en</th>\n",
              "      <th>traces</th>\n",
              "      <th>traces_tags</th>\n",
              "      <th>traces_en</th>\n",
              "      <th>...</th>\n",
              "      <th>vitamin-k_100g</th>\n",
              "      <th>vitamin-c_100g</th>\n",
              "      <th>vitamin-b1_100g</th>\n",
              "      <th>vitamin-b2_100g</th>\n",
              "      <th>vitamin-pp_100g</th>\n",
              "      <th>vitamin-b6_100g</th>\n",
              "      <th>vitamin-b9_100g</th>\n",
              "      <th>folates_100g</th>\n",
              "      <th>vitamin-b12_100g</th>\n",
              "      <th>biotin_100g</th>\n",
              "      <th>pantothenic-acid_100g</th>\n",
              "      <th>silica_100g</th>\n",
              "      <th>bicarbonate_100g</th>\n",
              "      <th>potassium_100g</th>\n",
              "      <th>chloride_100g</th>\n",
              "      <th>calcium_100g</th>\n",
              "      <th>phosphorus_100g</th>\n",
              "      <th>iron_100g</th>\n",
              "      <th>magnesium_100g</th>\n",
              "      <th>zinc_100g</th>\n",
              "      <th>copper_100g</th>\n",
              "      <th>manganese_100g</th>\n",
              "      <th>fluoride_100g</th>\n",
              "      <th>selenium_100g</th>\n",
              "      <th>chromium_100g</th>\n",
              "      <th>molybdenum_100g</th>\n",
              "      <th>iodine_100g</th>\n",
              "      <th>caffeine_100g</th>\n",
              "      <th>taurine_100g</th>\n",
              "      <th>ph_100g</th>\n",
              "      <th>fruits-vegetables-nuts_100g</th>\n",
              "      <th>fruits-vegetables-nuts-estimate_100g</th>\n",
              "      <th>collagen-meat-protein-ratio_100g</th>\n",
              "      <th>cocoa_100g</th>\n",
              "      <th>chlorophyl_100g</th>\n",
              "      <th>carbon-footprint_100g</th>\n",
              "      <th>nutrition-score-fr_100g</th>\n",
              "      <th>nutrition-score-uk_100g</th>\n",
              "      <th>glycemic-index_100g</th>\n",
              "      <th>water-hardness_100g</th>\n",
              "    </tr>\n",
              "  </thead>\n",
              "  <tbody>\n",
              "    <tr>\n",
              "      <th>0</th>\n",
              "      <td>3087</td>\n",
              "      <td>http://world-en.openfoodfacts.org/product/0000...</td>\n",
              "      <td>openfoodfacts-contributors</td>\n",
              "      <td>1474103866</td>\n",
              "      <td>2016-09-17T09:17:46Z</td>\n",
              "      <td>1474103893</td>\n",
              "      <td>2016-09-17T09:18:13Z</td>\n",
              "      <td>Farine de blé noir</td>\n",
              "      <td>NaN</td>\n",
              "      <td>1kg</td>\n",
              "      <td>NaN</td>\n",
              "      <td>NaN</td>\n",
              "      <td>Ferme t'y R'nao</td>\n",
              "      <td>ferme-t-y-r-nao</td>\n",
              "      <td>NaN</td>\n",
              "      <td>NaN</td>\n",
              "      <td>NaN</td>\n",
              "      <td>NaN</td>\n",
              "      <td>NaN</td>\n",
              "      <td>NaN</td>\n",
              "      <td>NaN</td>\n",
              "      <td>NaN</td>\n",
              "      <td>NaN</td>\n",
              "      <td>NaN</td>\n",
              "      <td>NaN</td>\n",
              "      <td>NaN</td>\n",
              "      <td>NaN</td>\n",
              "      <td>NaN</td>\n",
              "      <td>NaN</td>\n",
              "      <td>NaN</td>\n",
              "      <td>NaN</td>\n",
              "      <td>en:FR</td>\n",
              "      <td>en:france</td>\n",
              "      <td>France</td>\n",
              "      <td>NaN</td>\n",
              "      <td>NaN</td>\n",
              "      <td>NaN</td>\n",
              "      <td>NaN</td>\n",
              "      <td>NaN</td>\n",
              "      <td>NaN</td>\n",
              "      <td>...</td>\n",
              "      <td>NaN</td>\n",
              "      <td>NaN</td>\n",
              "      <td>NaN</td>\n",
              "      <td>NaN</td>\n",
              "      <td>NaN</td>\n",
              "      <td>NaN</td>\n",
              "      <td>NaN</td>\n",
              "      <td>NaN</td>\n",
              "      <td>NaN</td>\n",
              "      <td>NaN</td>\n",
              "      <td>NaN</td>\n",
              "      <td>NaN</td>\n",
              "      <td>NaN</td>\n",
              "      <td>NaN</td>\n",
              "      <td>NaN</td>\n",
              "      <td>NaN</td>\n",
              "      <td>NaN</td>\n",
              "      <td>NaN</td>\n",
              "      <td>NaN</td>\n",
              "      <td>NaN</td>\n",
              "      <td>NaN</td>\n",
              "      <td>NaN</td>\n",
              "      <td>NaN</td>\n",
              "      <td>NaN</td>\n",
              "      <td>NaN</td>\n",
              "      <td>NaN</td>\n",
              "      <td>NaN</td>\n",
              "      <td>NaN</td>\n",
              "      <td>NaN</td>\n",
              "      <td>NaN</td>\n",
              "      <td>NaN</td>\n",
              "      <td>NaN</td>\n",
              "      <td>NaN</td>\n",
              "      <td>NaN</td>\n",
              "      <td>NaN</td>\n",
              "      <td>NaN</td>\n",
              "      <td>NaN</td>\n",
              "      <td>NaN</td>\n",
              "      <td>NaN</td>\n",
              "      <td>NaN</td>\n",
              "    </tr>\n",
              "    <tr>\n",
              "      <th>1</th>\n",
              "      <td>4530</td>\n",
              "      <td>http://world-en.openfoodfacts.org/product/0000...</td>\n",
              "      <td>usda-ndb-import</td>\n",
              "      <td>1489069957</td>\n",
              "      <td>2017-03-09T14:32:37Z</td>\n",
              "      <td>1489069957</td>\n",
              "      <td>2017-03-09T14:32:37Z</td>\n",
              "      <td>Banana Chips Sweetened (Whole)</td>\n",
              "      <td>NaN</td>\n",
              "      <td>NaN</td>\n",
              "      <td>NaN</td>\n",
              "      <td>NaN</td>\n",
              "      <td>NaN</td>\n",
              "      <td>NaN</td>\n",
              "      <td>NaN</td>\n",
              "      <td>NaN</td>\n",
              "      <td>NaN</td>\n",
              "      <td>NaN</td>\n",
              "      <td>NaN</td>\n",
              "      <td>NaN</td>\n",
              "      <td>NaN</td>\n",
              "      <td>NaN</td>\n",
              "      <td>NaN</td>\n",
              "      <td>NaN</td>\n",
              "      <td>NaN</td>\n",
              "      <td>NaN</td>\n",
              "      <td>NaN</td>\n",
              "      <td>NaN</td>\n",
              "      <td>NaN</td>\n",
              "      <td>NaN</td>\n",
              "      <td>NaN</td>\n",
              "      <td>US</td>\n",
              "      <td>en:united-states</td>\n",
              "      <td>United States</td>\n",
              "      <td>Bananas, vegetable oil (coconut oil, corn oil ...</td>\n",
              "      <td>NaN</td>\n",
              "      <td>NaN</td>\n",
              "      <td>NaN</td>\n",
              "      <td>NaN</td>\n",
              "      <td>NaN</td>\n",
              "      <td>...</td>\n",
              "      <td>NaN</td>\n",
              "      <td>0.0214</td>\n",
              "      <td>NaN</td>\n",
              "      <td>NaN</td>\n",
              "      <td>NaN</td>\n",
              "      <td>NaN</td>\n",
              "      <td>NaN</td>\n",
              "      <td>NaN</td>\n",
              "      <td>NaN</td>\n",
              "      <td>NaN</td>\n",
              "      <td>NaN</td>\n",
              "      <td>NaN</td>\n",
              "      <td>NaN</td>\n",
              "      <td>NaN</td>\n",
              "      <td>NaN</td>\n",
              "      <td>0.000</td>\n",
              "      <td>NaN</td>\n",
              "      <td>0.00129</td>\n",
              "      <td>NaN</td>\n",
              "      <td>NaN</td>\n",
              "      <td>NaN</td>\n",
              "      <td>NaN</td>\n",
              "      <td>NaN</td>\n",
              "      <td>NaN</td>\n",
              "      <td>NaN</td>\n",
              "      <td>NaN</td>\n",
              "      <td>NaN</td>\n",
              "      <td>NaN</td>\n",
              "      <td>NaN</td>\n",
              "      <td>NaN</td>\n",
              "      <td>NaN</td>\n",
              "      <td>NaN</td>\n",
              "      <td>NaN</td>\n",
              "      <td>NaN</td>\n",
              "      <td>NaN</td>\n",
              "      <td>NaN</td>\n",
              "      <td>14.0</td>\n",
              "      <td>14.0</td>\n",
              "      <td>NaN</td>\n",
              "      <td>NaN</td>\n",
              "    </tr>\n",
              "    <tr>\n",
              "      <th>2</th>\n",
              "      <td>4559</td>\n",
              "      <td>http://world-en.openfoodfacts.org/product/0000...</td>\n",
              "      <td>usda-ndb-import</td>\n",
              "      <td>1489069957</td>\n",
              "      <td>2017-03-09T14:32:37Z</td>\n",
              "      <td>1489069957</td>\n",
              "      <td>2017-03-09T14:32:37Z</td>\n",
              "      <td>Peanuts</td>\n",
              "      <td>NaN</td>\n",
              "      <td>NaN</td>\n",
              "      <td>NaN</td>\n",
              "      <td>NaN</td>\n",
              "      <td>Torn &amp; Glasser</td>\n",
              "      <td>torn-glasser</td>\n",
              "      <td>NaN</td>\n",
              "      <td>NaN</td>\n",
              "      <td>NaN</td>\n",
              "      <td>NaN</td>\n",
              "      <td>NaN</td>\n",
              "      <td>NaN</td>\n",
              "      <td>NaN</td>\n",
              "      <td>NaN</td>\n",
              "      <td>NaN</td>\n",
              "      <td>NaN</td>\n",
              "      <td>NaN</td>\n",
              "      <td>NaN</td>\n",
              "      <td>NaN</td>\n",
              "      <td>NaN</td>\n",
              "      <td>NaN</td>\n",
              "      <td>NaN</td>\n",
              "      <td>NaN</td>\n",
              "      <td>US</td>\n",
              "      <td>en:united-states</td>\n",
              "      <td>United States</td>\n",
              "      <td>Peanuts, wheat flour, sugar, rice flour, tapio...</td>\n",
              "      <td>NaN</td>\n",
              "      <td>NaN</td>\n",
              "      <td>NaN</td>\n",
              "      <td>NaN</td>\n",
              "      <td>NaN</td>\n",
              "      <td>...</td>\n",
              "      <td>NaN</td>\n",
              "      <td>0.0000</td>\n",
              "      <td>NaN</td>\n",
              "      <td>NaN</td>\n",
              "      <td>NaN</td>\n",
              "      <td>NaN</td>\n",
              "      <td>NaN</td>\n",
              "      <td>NaN</td>\n",
              "      <td>NaN</td>\n",
              "      <td>NaN</td>\n",
              "      <td>NaN</td>\n",
              "      <td>NaN</td>\n",
              "      <td>NaN</td>\n",
              "      <td>NaN</td>\n",
              "      <td>NaN</td>\n",
              "      <td>0.071</td>\n",
              "      <td>NaN</td>\n",
              "      <td>0.00129</td>\n",
              "      <td>NaN</td>\n",
              "      <td>NaN</td>\n",
              "      <td>NaN</td>\n",
              "      <td>NaN</td>\n",
              "      <td>NaN</td>\n",
              "      <td>NaN</td>\n",
              "      <td>NaN</td>\n",
              "      <td>NaN</td>\n",
              "      <td>NaN</td>\n",
              "      <td>NaN</td>\n",
              "      <td>NaN</td>\n",
              "      <td>NaN</td>\n",
              "      <td>NaN</td>\n",
              "      <td>NaN</td>\n",
              "      <td>NaN</td>\n",
              "      <td>NaN</td>\n",
              "      <td>NaN</td>\n",
              "      <td>NaN</td>\n",
              "      <td>0.0</td>\n",
              "      <td>0.0</td>\n",
              "      <td>NaN</td>\n",
              "      <td>NaN</td>\n",
              "    </tr>\n",
              "    <tr>\n",
              "      <th>3</th>\n",
              "      <td>16087</td>\n",
              "      <td>http://world-en.openfoodfacts.org/product/0000...</td>\n",
              "      <td>usda-ndb-import</td>\n",
              "      <td>1489055731</td>\n",
              "      <td>2017-03-09T10:35:31Z</td>\n",
              "      <td>1489055731</td>\n",
              "      <td>2017-03-09T10:35:31Z</td>\n",
              "      <td>Organic Salted Nut Mix</td>\n",
              "      <td>NaN</td>\n",
              "      <td>NaN</td>\n",
              "      <td>NaN</td>\n",
              "      <td>NaN</td>\n",
              "      <td>Grizzlies</td>\n",
              "      <td>grizzlies</td>\n",
              "      <td>NaN</td>\n",
              "      <td>NaN</td>\n",
              "      <td>NaN</td>\n",
              "      <td>NaN</td>\n",
              "      <td>NaN</td>\n",
              "      <td>NaN</td>\n",
              "      <td>NaN</td>\n",
              "      <td>NaN</td>\n",
              "      <td>NaN</td>\n",
              "      <td>NaN</td>\n",
              "      <td>NaN</td>\n",
              "      <td>NaN</td>\n",
              "      <td>NaN</td>\n",
              "      <td>NaN</td>\n",
              "      <td>NaN</td>\n",
              "      <td>NaN</td>\n",
              "      <td>NaN</td>\n",
              "      <td>US</td>\n",
              "      <td>en:united-states</td>\n",
              "      <td>United States</td>\n",
              "      <td>Organic hazelnuts, organic cashews, organic wa...</td>\n",
              "      <td>NaN</td>\n",
              "      <td>NaN</td>\n",
              "      <td>NaN</td>\n",
              "      <td>NaN</td>\n",
              "      <td>NaN</td>\n",
              "      <td>...</td>\n",
              "      <td>NaN</td>\n",
              "      <td>NaN</td>\n",
              "      <td>NaN</td>\n",
              "      <td>NaN</td>\n",
              "      <td>NaN</td>\n",
              "      <td>NaN</td>\n",
              "      <td>NaN</td>\n",
              "      <td>NaN</td>\n",
              "      <td>NaN</td>\n",
              "      <td>NaN</td>\n",
              "      <td>NaN</td>\n",
              "      <td>NaN</td>\n",
              "      <td>NaN</td>\n",
              "      <td>NaN</td>\n",
              "      <td>NaN</td>\n",
              "      <td>0.143</td>\n",
              "      <td>NaN</td>\n",
              "      <td>0.00514</td>\n",
              "      <td>NaN</td>\n",
              "      <td>NaN</td>\n",
              "      <td>NaN</td>\n",
              "      <td>NaN</td>\n",
              "      <td>NaN</td>\n",
              "      <td>NaN</td>\n",
              "      <td>NaN</td>\n",
              "      <td>NaN</td>\n",
              "      <td>NaN</td>\n",
              "      <td>NaN</td>\n",
              "      <td>NaN</td>\n",
              "      <td>NaN</td>\n",
              "      <td>NaN</td>\n",
              "      <td>NaN</td>\n",
              "      <td>NaN</td>\n",
              "      <td>NaN</td>\n",
              "      <td>NaN</td>\n",
              "      <td>NaN</td>\n",
              "      <td>12.0</td>\n",
              "      <td>12.0</td>\n",
              "      <td>NaN</td>\n",
              "      <td>NaN</td>\n",
              "    </tr>\n",
              "    <tr>\n",
              "      <th>4</th>\n",
              "      <td>16094</td>\n",
              "      <td>http://world-en.openfoodfacts.org/product/0000...</td>\n",
              "      <td>usda-ndb-import</td>\n",
              "      <td>1489055653</td>\n",
              "      <td>2017-03-09T10:34:13Z</td>\n",
              "      <td>1489055653</td>\n",
              "      <td>2017-03-09T10:34:13Z</td>\n",
              "      <td>Organic Polenta</td>\n",
              "      <td>NaN</td>\n",
              "      <td>NaN</td>\n",
              "      <td>NaN</td>\n",
              "      <td>NaN</td>\n",
              "      <td>Bob's Red Mill</td>\n",
              "      <td>bob-s-red-mill</td>\n",
              "      <td>NaN</td>\n",
              "      <td>NaN</td>\n",
              "      <td>NaN</td>\n",
              "      <td>NaN</td>\n",
              "      <td>NaN</td>\n",
              "      <td>NaN</td>\n",
              "      <td>NaN</td>\n",
              "      <td>NaN</td>\n",
              "      <td>NaN</td>\n",
              "      <td>NaN</td>\n",
              "      <td>NaN</td>\n",
              "      <td>NaN</td>\n",
              "      <td>NaN</td>\n",
              "      <td>NaN</td>\n",
              "      <td>NaN</td>\n",
              "      <td>NaN</td>\n",
              "      <td>NaN</td>\n",
              "      <td>US</td>\n",
              "      <td>en:united-states</td>\n",
              "      <td>United States</td>\n",
              "      <td>Organic polenta</td>\n",
              "      <td>NaN</td>\n",
              "      <td>NaN</td>\n",
              "      <td>NaN</td>\n",
              "      <td>NaN</td>\n",
              "      <td>NaN</td>\n",
              "      <td>...</td>\n",
              "      <td>NaN</td>\n",
              "      <td>NaN</td>\n",
              "      <td>NaN</td>\n",
              "      <td>NaN</td>\n",
              "      <td>NaN</td>\n",
              "      <td>NaN</td>\n",
              "      <td>NaN</td>\n",
              "      <td>NaN</td>\n",
              "      <td>NaN</td>\n",
              "      <td>NaN</td>\n",
              "      <td>NaN</td>\n",
              "      <td>NaN</td>\n",
              "      <td>NaN</td>\n",
              "      <td>NaN</td>\n",
              "      <td>NaN</td>\n",
              "      <td>NaN</td>\n",
              "      <td>NaN</td>\n",
              "      <td>NaN</td>\n",
              "      <td>NaN</td>\n",
              "      <td>NaN</td>\n",
              "      <td>NaN</td>\n",
              "      <td>NaN</td>\n",
              "      <td>NaN</td>\n",
              "      <td>NaN</td>\n",
              "      <td>NaN</td>\n",
              "      <td>NaN</td>\n",
              "      <td>NaN</td>\n",
              "      <td>NaN</td>\n",
              "      <td>NaN</td>\n",
              "      <td>NaN</td>\n",
              "      <td>NaN</td>\n",
              "      <td>NaN</td>\n",
              "      <td>NaN</td>\n",
              "      <td>NaN</td>\n",
              "      <td>NaN</td>\n",
              "      <td>NaN</td>\n",
              "      <td>NaN</td>\n",
              "      <td>NaN</td>\n",
              "      <td>NaN</td>\n",
              "      <td>NaN</td>\n",
              "    </tr>\n",
              "  </tbody>\n",
              "</table>\n",
              "<p>5 rows × 163 columns</p>\n",
              "</div>"
            ],
            "text/plain": [
              "    code  ... water-hardness_100g\n",
              "0   3087  ...                 NaN\n",
              "1   4530  ...                 NaN\n",
              "2   4559  ...                 NaN\n",
              "3  16087  ...                 NaN\n",
              "4  16094  ...                 NaN\n",
              "\n",
              "[5 rows x 163 columns]"
            ]
          },
          "metadata": {
            "tags": []
          },
          "execution_count": 26
        }
      ]
    },
    {
      "cell_type": "markdown",
      "metadata": {
        "id": "Op0ZXvT6nB2z",
        "colab_type": "text"
      },
      "source": [
        "### Step 5. What is the number of observations in the dataset?"
      ]
    },
    {
      "cell_type": "code",
      "metadata": {
        "id": "mHMnDYgDnB20",
        "colab_type": "code",
        "outputId": "56e2ccf7-da2c-49e7-bc3e-982de7b4df3d",
        "colab": {
          "base_uri": "https://localhost:8080/",
          "height": 34
        }
      },
      "source": [
        "food.shape"
      ],
      "execution_count": 27,
      "outputs": [
        {
          "output_type": "execute_result",
          "data": {
            "text/plain": [
              "(356027, 163)"
            ]
          },
          "metadata": {
            "tags": []
          },
          "execution_count": 27
        }
      ]
    },
    {
      "cell_type": "code",
      "metadata": {
        "id": "gwH1OFgCve2D",
        "colab_type": "code",
        "outputId": "305472eb-5fd0-43ed-f216-786dbcb40d3e",
        "colab": {
          "base_uri": "https://localhost:8080/",
          "height": 1000
        }
      },
      "source": [
        "food.info"
      ],
      "execution_count": 52,
      "outputs": [
        {
          "output_type": "execute_result",
          "data": {
            "text/plain": [
              "<bound method DataFrame.info of                  code  ... water-hardness_100g\n",
              "0                3087  ...                 NaN\n",
              "1                4530  ...                 NaN\n",
              "2                4559  ...                 NaN\n",
              "3               16087  ...                 NaN\n",
              "4               16094  ...                 NaN\n",
              "5               16100  ...                 NaN\n",
              "6               16117  ...                 NaN\n",
              "7               16124  ...                 NaN\n",
              "8               16193  ...                 NaN\n",
              "9               16513  ...                 NaN\n",
              "10              16612  ...                 NaN\n",
              "11              16650  ...                 NaN\n",
              "12              16872  ...                 NaN\n",
              "13              16933  ...                 NaN\n",
              "14              17497  ...                 NaN\n",
              "15              18012  ...                 NaN\n",
              "16              18050  ...                 NaN\n",
              "17              18173  ...                 NaN\n",
              "18              18197  ...                 NaN\n",
              "19              18227  ...                 NaN\n",
              "20              18265  ...                 NaN\n",
              "21              18289  ...                 NaN\n",
              "22              18319  ...                 NaN\n",
              "23              18340  ...                 NaN\n",
              "24              18357  ...                 NaN\n",
              "25              18371  ...                 NaN\n",
              "26              18388  ...                 NaN\n",
              "27              18395  ...                 NaN\n",
              "28              18401  ...                 NaN\n",
              "29              18418  ...                 NaN\n",
              "...               ...  ...                 ...\n",
              "355997  9791463741241  ...                 NaN\n",
              "355998     9800120499  ...                 NaN\n",
              "355999     9800801107  ...                 NaN\n",
              "356000     9800895007  ...                 NaN\n",
              "356001     9800895250  ...                 NaN\n",
              "356002        9802735  ...                 NaN\n",
              "356003  9820111458900  ...                 NaN\n",
              "356004  9836654056565  ...                 NaN\n",
              "356005  9847548283004  ...                 NaN\n",
              "356006    98709870987  ...                 NaN\n",
              "356007     9871311007  ...                 NaN\n",
              "356008  9876567898765  ...                 NaN\n",
              "356009         988639  ...                 NaN\n",
              "356010  9900000000233  ...                 NaN\n",
              "356011  9900010011557  ...                 NaN\n",
              "356012  9901198001583  ...                 NaN\n",
              "356013  9901942000794  ...                 NaN\n",
              "356014       99044169  ...                 NaN\n",
              "356015  9906410000009  ...                 NaN\n",
              "356016  9908278636246  ...                 NaN\n",
              "356017       99111250  ...                 NaN\n",
              "356018           9918  ...                 NaN\n",
              "356019  9935010000003  ...                 NaN\n",
              "356020       99410148  ...                 NaN\n",
              "356021  9948282780603  ...                 NaN\n",
              "356022       99567453  ...                 NaN\n",
              "356023  9970229501521  ...                 NaN\n",
              "356024  9977471758307  ...                 NaN\n",
              "356025  9980282863788  ...                 NaN\n",
              "356026   999990026839  ...                 NaN\n",
              "\n",
              "[356027 rows x 163 columns]>"
            ]
          },
          "metadata": {
            "tags": []
          },
          "execution_count": 52
        }
      ]
    },
    {
      "cell_type": "markdown",
      "metadata": {
        "id": "AtGx-LSDnB23",
        "colab_type": "text"
      },
      "source": [
        "### Step 6. What is the number of columns in the dataset?"
      ]
    },
    {
      "cell_type": "code",
      "metadata": {
        "id": "kUL3W5finB24",
        "colab_type": "code",
        "outputId": "ec8baa84-4d42-424c-823a-3eb71b8b09e9",
        "colab": {
          "base_uri": "https://localhost:8080/",
          "height": 34
        }
      },
      "source": [
        "food.shape[0]"
      ],
      "execution_count": 29,
      "outputs": [
        {
          "output_type": "execute_result",
          "data": {
            "text/plain": [
              "356027"
            ]
          },
          "metadata": {
            "tags": []
          },
          "execution_count": 29
        }
      ]
    },
    {
      "cell_type": "markdown",
      "metadata": {
        "id": "nnd7JVYVnB27",
        "colab_type": "text"
      },
      "source": [
        "### Step 7. Print the name of all the columns."
      ]
    },
    {
      "cell_type": "code",
      "metadata": {
        "id": "e-F1L8qpnB27",
        "colab_type": "code",
        "colab": {
          "base_uri": "https://localhost:8080/",
          "height": 185
        },
        "outputId": "b28e694a-11e7-479a-da4a-a5a205a4cd3a"
      },
      "source": [
        "food.columns"
      ],
      "execution_count": 30,
      "outputs": [
        {
          "output_type": "execute_result",
          "data": {
            "text/plain": [
              "Index([u'code', u'url', u'creator', u'created_t', u'created_datetime',\n",
              "       u'last_modified_t', u'last_modified_datetime', u'product_name',\n",
              "       u'generic_name', u'quantity',\n",
              "       ...\n",
              "       u'fruits-vegetables-nuts_100g', u'fruits-vegetables-nuts-estimate_100g',\n",
              "       u'collagen-meat-protein-ratio_100g', u'cocoa_100g', u'chlorophyl_100g',\n",
              "       u'carbon-footprint_100g', u'nutrition-score-fr_100g',\n",
              "       u'nutrition-score-uk_100g', u'glycemic-index_100g',\n",
              "       u'water-hardness_100g'],\n",
              "      dtype='object', length=163)"
            ]
          },
          "metadata": {
            "tags": []
          },
          "execution_count": 30
        }
      ]
    },
    {
      "cell_type": "code",
      "metadata": {
        "id": "DSwghBaEjzKt",
        "colab_type": "code",
        "colab": {
          "base_uri": "https://localhost:8080/",
          "height": 146
        },
        "outputId": "4599ba31-b6ae-4b70-f2da-c4cea836bcc7"
      },
      "source": [
        "food.head(0)"
      ],
      "execution_count": 34,
      "outputs": [
        {
          "output_type": "execute_result",
          "data": {
            "text/html": [
              "<div>\n",
              "<style scoped>\n",
              "    .dataframe tbody tr th:only-of-type {\n",
              "        vertical-align: middle;\n",
              "    }\n",
              "\n",
              "    .dataframe tbody tr th {\n",
              "        vertical-align: top;\n",
              "    }\n",
              "\n",
              "    .dataframe thead th {\n",
              "        text-align: right;\n",
              "    }\n",
              "</style>\n",
              "<table border=\"1\" class=\"dataframe\">\n",
              "  <thead>\n",
              "    <tr style=\"text-align: right;\">\n",
              "      <th></th>\n",
              "      <th>code</th>\n",
              "      <th>url</th>\n",
              "      <th>creator</th>\n",
              "      <th>created_t</th>\n",
              "      <th>created_datetime</th>\n",
              "      <th>last_modified_t</th>\n",
              "      <th>last_modified_datetime</th>\n",
              "      <th>product_name</th>\n",
              "      <th>generic_name</th>\n",
              "      <th>quantity</th>\n",
              "      <th>packaging</th>\n",
              "      <th>packaging_tags</th>\n",
              "      <th>brands</th>\n",
              "      <th>brands_tags</th>\n",
              "      <th>categories</th>\n",
              "      <th>categories_tags</th>\n",
              "      <th>categories_en</th>\n",
              "      <th>origins</th>\n",
              "      <th>origins_tags</th>\n",
              "      <th>manufacturing_places</th>\n",
              "      <th>manufacturing_places_tags</th>\n",
              "      <th>labels</th>\n",
              "      <th>labels_tags</th>\n",
              "      <th>labels_en</th>\n",
              "      <th>emb_codes</th>\n",
              "      <th>emb_codes_tags</th>\n",
              "      <th>first_packaging_code_geo</th>\n",
              "      <th>cities</th>\n",
              "      <th>cities_tags</th>\n",
              "      <th>purchase_places</th>\n",
              "      <th>stores</th>\n",
              "      <th>countries</th>\n",
              "      <th>countries_tags</th>\n",
              "      <th>countries_en</th>\n",
              "      <th>ingredients_text</th>\n",
              "      <th>allergens</th>\n",
              "      <th>allergens_en</th>\n",
              "      <th>traces</th>\n",
              "      <th>traces_tags</th>\n",
              "      <th>traces_en</th>\n",
              "      <th>...</th>\n",
              "      <th>vitamin-k_100g</th>\n",
              "      <th>vitamin-c_100g</th>\n",
              "      <th>vitamin-b1_100g</th>\n",
              "      <th>vitamin-b2_100g</th>\n",
              "      <th>vitamin-pp_100g</th>\n",
              "      <th>vitamin-b6_100g</th>\n",
              "      <th>vitamin-b9_100g</th>\n",
              "      <th>folates_100g</th>\n",
              "      <th>vitamin-b12_100g</th>\n",
              "      <th>biotin_100g</th>\n",
              "      <th>pantothenic-acid_100g</th>\n",
              "      <th>silica_100g</th>\n",
              "      <th>bicarbonate_100g</th>\n",
              "      <th>potassium_100g</th>\n",
              "      <th>chloride_100g</th>\n",
              "      <th>calcium_100g</th>\n",
              "      <th>phosphorus_100g</th>\n",
              "      <th>iron_100g</th>\n",
              "      <th>magnesium_100g</th>\n",
              "      <th>zinc_100g</th>\n",
              "      <th>copper_100g</th>\n",
              "      <th>manganese_100g</th>\n",
              "      <th>fluoride_100g</th>\n",
              "      <th>selenium_100g</th>\n",
              "      <th>chromium_100g</th>\n",
              "      <th>molybdenum_100g</th>\n",
              "      <th>iodine_100g</th>\n",
              "      <th>caffeine_100g</th>\n",
              "      <th>taurine_100g</th>\n",
              "      <th>ph_100g</th>\n",
              "      <th>fruits-vegetables-nuts_100g</th>\n",
              "      <th>fruits-vegetables-nuts-estimate_100g</th>\n",
              "      <th>collagen-meat-protein-ratio_100g</th>\n",
              "      <th>cocoa_100g</th>\n",
              "      <th>chlorophyl_100g</th>\n",
              "      <th>carbon-footprint_100g</th>\n",
              "      <th>nutrition-score-fr_100g</th>\n",
              "      <th>nutrition-score-uk_100g</th>\n",
              "      <th>glycemic-index_100g</th>\n",
              "      <th>water-hardness_100g</th>\n",
              "    </tr>\n",
              "  </thead>\n",
              "  <tbody>\n",
              "  </tbody>\n",
              "</table>\n",
              "<p>0 rows × 163 columns</p>\n",
              "</div>"
            ],
            "text/plain": [
              "Empty DataFrame\n",
              "Columns: [code, url, creator, created_t, created_datetime, last_modified_t, last_modified_datetime, product_name, generic_name, quantity, packaging, packaging_tags, brands, brands_tags, categories, categories_tags, categories_en, origins, origins_tags, manufacturing_places, manufacturing_places_tags, labels, labels_tags, labels_en, emb_codes, emb_codes_tags, first_packaging_code_geo, cities, cities_tags, purchase_places, stores, countries, countries_tags, countries_en, ingredients_text, allergens, allergens_en, traces, traces_tags, traces_en, serving_size, no_nutriments, additives_n, additives, additives_tags, additives_en, ingredients_from_palm_oil_n, ingredients_from_palm_oil, ingredients_from_palm_oil_tags, ingredients_that_may_be_from_palm_oil_n, ingredients_that_may_be_from_palm_oil, ingredients_that_may_be_from_palm_oil_tags, nutrition_grade_uk, nutrition_grade_fr, pnns_groups_1, pnns_groups_2, states, states_tags, states_en, main_category, main_category_en, image_url, image_small_url, energy_100g, energy-from-fat_100g, fat_100g, saturated-fat_100g, -butyric-acid_100g, -caproic-acid_100g, -caprylic-acid_100g, -capric-acid_100g, -lauric-acid_100g, -myristic-acid_100g, -palmitic-acid_100g, -stearic-acid_100g, -arachidic-acid_100g, -behenic-acid_100g, -lignoceric-acid_100g, -cerotic-acid_100g, -montanic-acid_100g, -melissic-acid_100g, monounsaturated-fat_100g, polyunsaturated-fat_100g, omega-3-fat_100g, -alpha-linolenic-acid_100g, -eicosapentaenoic-acid_100g, -docosahexaenoic-acid_100g, omega-6-fat_100g, -linoleic-acid_100g, -arachidonic-acid_100g, -gamma-linolenic-acid_100g, -dihomo-gamma-linolenic-acid_100g, omega-9-fat_100g, -oleic-acid_100g, -elaidic-acid_100g, -gondoic-acid_100g, -mead-acid_100g, -erucic-acid_100g, -nervonic-acid_100g, trans-fat_100g, ...]\n",
              "Index: []\n",
              "\n",
              "[0 rows x 163 columns]"
            ]
          },
          "metadata": {
            "tags": []
          },
          "execution_count": 34
        }
      ]
    },
    {
      "cell_type": "markdown",
      "metadata": {
        "id": "zq7EFEvYnB2-",
        "colab_type": "text"
      },
      "source": [
        "### Step 8. What is the name of 105th column?"
      ]
    },
    {
      "cell_type": "code",
      "metadata": {
        "id": "Wj0ldQHwnB2-",
        "colab_type": "code",
        "colab": {
          "base_uri": "https://localhost:8080/",
          "height": 34
        },
        "outputId": "f5562e2f-a368-490f-83c5-4001327580e2"
      },
      "source": [
        "food.columns[104]"
      ],
      "execution_count": 37,
      "outputs": [
        {
          "output_type": "execute_result",
          "data": {
            "text/plain": [
              "'-glucose_100g'"
            ]
          },
          "metadata": {
            "tags": []
          },
          "execution_count": 37
        }
      ]
    },
    {
      "cell_type": "markdown",
      "metadata": {
        "id": "H3DQMaV6nB3B",
        "colab_type": "text"
      },
      "source": [
        "### Step 9. What is the type of the observations of the 105th column?"
      ]
    },
    {
      "cell_type": "code",
      "metadata": {
        "id": "wr1siIjqnB3B",
        "colab_type": "code",
        "colab": {
          "base_uri": "https://localhost:8080/",
          "height": 34
        },
        "outputId": "6b14e537-a31e-4567-af4c-b9625cff49ed"
      },
      "source": [
        "food.dtypes[104]"
      ],
      "execution_count": 39,
      "outputs": [
        {
          "output_type": "execute_result",
          "data": {
            "text/plain": [
              "dtype('float64')"
            ]
          },
          "metadata": {
            "tags": []
          },
          "execution_count": 39
        }
      ]
    },
    {
      "cell_type": "markdown",
      "metadata": {
        "id": "_OASsfHXnB3E",
        "colab_type": "text"
      },
      "source": [
        "### Step 10. How is the dataset indexed?"
      ]
    },
    {
      "cell_type": "code",
      "metadata": {
        "id": "ZwDRR9fjnB3E",
        "colab_type": "code",
        "colab": {
          "base_uri": "https://localhost:8080/",
          "height": 34
        },
        "outputId": "d0970d0f-516c-4079-c611-eb7d81829d35"
      },
      "source": [
        "food.index"
      ],
      "execution_count": 40,
      "outputs": [
        {
          "output_type": "execute_result",
          "data": {
            "text/plain": [
              "RangeIndex(start=0, stop=356027, step=1)"
            ]
          },
          "metadata": {
            "tags": []
          },
          "execution_count": 40
        }
      ]
    },
    {
      "cell_type": "markdown",
      "metadata": {
        "id": "CIMFLpcXnB3H",
        "colab_type": "text"
      },
      "source": [
        "### Step 11. What is the product name of the 19th observation?"
      ]
    },
    {
      "cell_type": "code",
      "metadata": {
        "id": "M8Zs8h61oMDn",
        "colab_type": "code",
        "colab": {
          "base_uri": "https://localhost:8080/",
          "height": 34
        },
        "outputId": "e44224ff-2baa-417b-923b-fd812b6521d7"
      },
      "source": [
        "food.columns.get_loc(\"product_name\")"
      ],
      "execution_count": 51,
      "outputs": [
        {
          "output_type": "execute_result",
          "data": {
            "text/plain": [
              "7"
            ]
          },
          "metadata": {
            "tags": []
          },
          "execution_count": 51
        }
      ]
    },
    {
      "cell_type": "code",
      "metadata": {
        "id": "qFLXbVSlnB3H",
        "colab_type": "code",
        "colab": {
          "base_uri": "https://localhost:8080/",
          "height": 34
        },
        "outputId": "92ef9280-a405-4a14-a77a-2e1c379591bb"
      },
      "source": [
        "food.values[18][7]"
      ],
      "execution_count": 42,
      "outputs": [
        {
          "output_type": "execute_result",
          "data": {
            "text/plain": [
              "'Lotus Organic Brown Jasmine Rice'"
            ]
          },
          "metadata": {
            "tags": []
          },
          "execution_count": 42
        }
      ]
    },
    {
      "cell_type": "code",
      "metadata": {
        "id": "PK4saLnLn6qM",
        "colab_type": "code",
        "colab": {}
      },
      "source": [
        ""
      ],
      "execution_count": 0,
      "outputs": []
    }
  ]
}